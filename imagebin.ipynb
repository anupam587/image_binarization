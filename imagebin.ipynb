{
  "nbformat": 4,
  "nbformat_minor": 0,
  "metadata": {
    "colab": {
      "name": "imagebin.ipynb",
      "provenance": [],
      "collapsed_sections": []
    },
    "kernelspec": {
      "name": "python3",
      "display_name": "Python 3"
    },
    "language_info": {
      "name": "python"
    }
  },
  "cells": [
    {
      "cell_type": "code",
      "metadata": {
        "colab": {
          "base_uri": "https://localhost:8080/"
        },
        "id": "ZFRz30bM4241",
        "outputId": "648fea33-939c-40a1-dce4-d5bdf7f346fb"
      },
      "source": [
        "import numpy as np\n",
        "from skimage import io\n",
        "import cv2\n",
        "import os\n",
        "\n",
        "\n",
        "def read_image(image_file, gray_scale=False):\n",
        "  image_src = cv2.imread(image_file)\n",
        "  if gray_scale:\n",
        "      image_src = cv2.cvtColor(image_src, cv2.COLOR_BGR2GRAY)\n",
        "  else:\n",
        "      image_src = cv2.cvtColor(image_src, cv2.COLOR_BGR2RGB)\n",
        "  return image_src\n",
        "\n",
        "def write_image(file_path, img):\n",
        "  cv2.imwrite(file_path, img)\n",
        "  return  \n",
        "\n",
        "# image binarization using Niblack method\n",
        "def image_binariation(img):\n",
        "  img_shape = img.shape\n",
        "  print(\"image shape\", img_shape)\n",
        "  bin_img = np.zeros(img_shape, dtype=np.uint8)\n",
        "\n",
        "  window_size = 25\n",
        "  rows = img_shape[0]\n",
        "  cols = img_shape[1]\n",
        "\n",
        "  for i in range(rows):\n",
        "    for j in range(cols):\n",
        "      # get window size neigboring pixels\n",
        "      # print(\"i , j \", i , j)\n",
        "      row_top = i - 2\n",
        "      row_bottom = i + 2\n",
        "      col_left = j - 2\n",
        "      col_right = j + 2\n",
        "\n",
        "      if row_top < 0:\n",
        "        row_top = 0\n",
        "        row_bottom = 5\n",
        "      \n",
        "      if row_bottom > rows - 1:\n",
        "        row_bottom = rows - 1\n",
        "        row_top = rows - 6\n",
        "\n",
        "      if col_left < 0:\n",
        "        col_left = 0\n",
        "        col_right = 5\n",
        "      \n",
        "      if col_right > cols - 1:\n",
        "        col_right = cols - 1\n",
        "        col_left = cols - 6\n",
        "      \n",
        "      nbr_pixels = bin_img[row_top:row_bottom, col_left:col_right]\n",
        "      std_dev = np.std(nbr_pixels)\n",
        "      mean_pix = np.mean(nbr_pixels)\n",
        "\n",
        "      threshold = mean_pix * (1 + (0.5 * (std_dev/128 - 1)))\n",
        "      # print(\"threshold \", threshold)\n",
        "      # print(\"img[i][j] \", img[i][j])\n",
        "      if img[i][j] > threshold:\n",
        "        bin_img[i][j] = 255\n",
        "\n",
        "\n",
        "  return bin_img\n",
        "\n",
        "if os.path.exists(\"/content/sample_data/binscale.png\"):\n",
        "  os.remove(\"/content/sample_data/binscale.png\")\n",
        "\n",
        "img = read_image(\"/content/sample_data/grayscale_girl.png\", True)\n",
        "# print(type(img))\n",
        "print(img)\n",
        "\n",
        "bin_img = image_binariation(img)\n",
        "print(bin_img)\n",
        "\n",
        "write_image(\"/content/sample_data/binscale_girl.png\", bin_img)"
      ],
      "execution_count": null,
      "outputs": [
        {
          "output_type": "stream",
          "name": "stdout",
          "text": [
            "[[159 158 156 ... 167 136   0]\n",
            " [160 156 156 ... 139 102   0]\n",
            " [156 155 156 ...  56  36   0]\n",
            " ...\n",
            " [ 29  30  32 ...  77  78   0]\n",
            " [ 24  28  29 ...  87  85   0]\n",
            " [ 23  31  29 ...  89  94   0]]\n",
            "image shape (253, 255)\n",
            "[[255 255 255 ... 255 255   0]\n",
            " [255 255 255 ... 255 255   0]\n",
            " [255 255   0 ...   0   0   0]\n",
            " ...\n",
            " [  0   0   0 ... 255 255   0]\n",
            " [  0   0   0 ...   0   0   0]\n",
            " [  0   0   0 ...   0   0   0]]\n"
          ]
        }
      ]
    },
    {
      "cell_type": "code",
      "metadata": {
        "id": "LM1mgax0cR-q"
      },
      "source": [
        "from google.colab import drive\n",
        "drive.mount('/content/drive')"
      ],
      "execution_count": null,
      "outputs": []
    }
  ]
}